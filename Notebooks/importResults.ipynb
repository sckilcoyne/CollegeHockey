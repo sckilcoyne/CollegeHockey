{
 "cells": [
  {
   "cell_type": "code",
   "execution_count": 1,
   "metadata": {},
   "outputs": [],
   "source": [
    "## Setup\n",
    "\n",
    "import pandas as pd\n",
    "import numpy as np\n",
    "import time"
   ]
  },
  {
   "cell_type": "code",
   "execution_count": null,
   "metadata": {},
   "outputs": [],
   "source": [
    "## Import CHN webpages\n",
    "year_start = 1900\n",
    "year_end = 2019\n",
    "\n",
    "chn_season_url = 'https://www.collegehockeynews.com/schedules/index.php?rtz=0&season='\n",
    "\n",
    "# results_composite = pd.DataFrame\n",
    "\n",
    "for season_start in range(year_start,year_end):\n",
    "    season = str(season_start) + str(season_start+1)\n",
    "    chn_url = chn_season_url + season\n",
    "#     print(chn_url)\n",
    "    chn_tables = pd.read_html(chn_url,skiprows=1)\n",
    "    season_results = chn_tables[-1]\n",
    "    if season_start == year_start:\n",
    "        chn_composite = season_results\n",
    "    else:\n",
    "        chn_composite = chn_composite.append(season_results, ignore_index=True)\n",
    "    time.sleep(0.3)\n",
    "    print(season_start)\n",
    "\n",
    "    \n",
    "print(chn_composite.shape)\n",
    "\n",
    "# Write to CSV\n",
    "chn_composite.to_csv(path_or_buf='CHN_Raw.csv',index=False)"
   ]
  },
  {
   "cell_type": "code",
   "execution_count": null,
   "metadata": {},
   "outputs": [],
   "source": [
    "# print(season_results.shape)\n",
    "# print(len(chn_tables))\n",
    "# print(season_results)\n",
    "# print(chn_tables[19])"
   ]
  },
  {
   "cell_type": "code",
   "execution_count": 1,
   "metadata": {},
   "outputs": [
    {
     "name": "stdout",
     "output_type": "stream",
     "text": [
      "(85991, 99)\n"
     ]
    }
   ],
   "source": [
    "## Import CHN raw results\n",
    "results_composite = pd.read_csv('CHN_Raw.csv')\n",
    "print(results_composite.shape)"
   ]
  },
  {
   "cell_type": "code",
   "execution_count": 16,
   "metadata": {},
   "outputs": [
    {
     "name": "stdout",
     "output_type": "stream",
     "text": [
      "(48480, 10)\n"
     ]
    }
   ],
   "source": [
    "## Clean up data\n",
    "\n",
    "headers = ['Away', 'Away Score','Location', 'Home', 'Home Score','OT','nan','Notes']\n",
    "\n",
    "# Remove all the extra columns\n",
    "results_cleaned = results_composite[results_composite.columns[0:8]]\n",
    "results_cleaned.columns = headers\n",
    "results_cleaned = results_cleaned.drop(columns=['nan'])\n",
    "\n",
    "\n",
    "# Remove rows without data\n",
    "# print(pd.notnull(results_cleaned['Away']))\n",
    "results_cleaned = results_cleaned[pd.notnull(results_cleaned['Away'])]\n",
    "results_cleaned = results_cleaned.reset_index(drop=True)\n",
    "\n",
    "# Add game date column\n",
    "dates = pd.to_datetime(results_cleaned.Away,errors='coerce')\n",
    "# print(type(dates))\n",
    "# print(dates)\n",
    "# print(pd.isna(dates))\n",
    "dates_ffill = dates.fillna(method='ffill')\n",
    "results_cleaned['Date'] = dates_ffill\n",
    "\n",
    "# Remove rows of dates\n",
    "results_cleaned = results_cleaned[pd.isna(dates)]\n",
    "results_cleaned = results_cleaned.reset_index(drop=True)\n",
    "\n",
    "# Clean games without scores\n",
    "scorelessGamesAway = pd.isnull(results_cleaned['Away Score'])\n",
    "scorelessGamesHome = pd.isnull(results_cleaned['Home Score'])\n",
    "scorelessGames = scorelessGamesAway | scorelessGamesHome\n",
    "missingScores = np.where(scorelessGames)[0]\n",
    "# print(missingScores)\n",
    "# print(scorelessGames[missingScores])\n",
    "results_cleaned = results_cleaned.drop(missingScores)\n",
    "# print(results_cleaned.shape)\n",
    "\n",
    "# Determine Conference\n",
    "conf_isdigit = results_cleaned['Away Score'].str.isdigit()\n",
    "conf_isdigit = conf_isdigit.fillna(False)\n",
    "# print(conf_isdigit.unique())\n",
    "\n",
    "conf_isdigit = ~conf_isdigit\n",
    "conf_score = results_cleaned['Away Score']\n",
    "# print(conf_isdigit)\n",
    "conf = conf_score[conf_isdigit]\n",
    "# print(type(conf))\n",
    "# print(conf)\n",
    "results_cleaned['Conference'] = conf\n",
    "results_cleaned['Conference'] = results_cleaned['Conference'].fillna(method='ffill')\n",
    "results_cleaned = results_cleaned[~conf_isdigit]\n",
    "\n",
    "\n",
    "# Add Season to Each Game\n",
    "results_cleaned['Season'] = pd.PeriodIndex(results_cleaned['Date'], freq='A-Jul')\n",
    "\n",
    "# Sort Games by date\n",
    "results_cleaned = results_cleaned.sort_values(by = ['Date'])\n",
    "\n",
    "print(results_cleaned.shape)\n",
    "# print(results_cleaned)\n"
   ]
  },
  {
   "cell_type": "code",
   "execution_count": 13,
   "metadata": {},
   "outputs": [
    {
     "data": {
      "text/plain": [
       "PeriodIndex(['1901', '1901', '1901', '1901', '1901', '1901', '1901', '1901',\n",
       "             '1901', '1901',\n",
       "             ...\n",
       "             '2019', '2019', '2019', '2019', '2019', '2019', '2019', '2019',\n",
       "             '2019', '2019'],\n",
       "            dtype='period[A-JUL]', name='Date', length=48480, freq='A-JUL')"
      ]
     },
     "execution_count": 13,
     "metadata": {},
     "output_type": "execute_result"
    }
   ],
   "source": []
  },
  {
   "cell_type": "code",
   "execution_count": null,
   "metadata": {},
   "outputs": [],
   "source": []
  },
  {
   "cell_type": "code",
   "execution_count": 17,
   "metadata": {},
   "outputs": [],
   "source": [
    "# Write to CSV\n",
    "results_cleaned.to_csv(path_or_buf='Results_Composite.csv',index='False')"
   ]
  }
 ],
 "metadata": {
  "kernelspec": {
   "display_name": "Python 3",
   "language": "python",
   "name": "python3"
  },
  "language_info": {
   "codemirror_mode": {
    "name": "ipython",
    "version": 3
   },
   "file_extension": ".py",
   "mimetype": "text/x-python",
   "name": "python",
   "nbconvert_exporter": "python",
   "pygments_lexer": "ipython3",
   "version": "3.7.4"
  }
 },
 "nbformat": 4,
 "nbformat_minor": 4
}
